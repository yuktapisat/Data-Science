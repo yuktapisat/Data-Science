{
  "nbformat": 4,
  "nbformat_minor": 0,
  "metadata": {
    "colab": {
      "name": "DataScienceLUA1.ipynb",
      "provenance": []
    },
    "kernelspec": {
      "name": "python3",
      "display_name": "Python 3"
    }
  },
  "cells": [
    {
      "cell_type": "code",
      "metadata": {
        "id": "SuRrsQ_YbCVB",
        "outputId": "15da6e9d-6075-45b4-bee7-090de8a6385e",
        "colab": {
          "base_uri": "https://localhost:8080/"
        }
      },
      "source": [
        "#Questions 1:\n",
        "'''Given the following jumbled word, OBANWRI guess the correct English word. A. RANIBOW B. RAINBOW C. BOWRANI D. ROBWANI Ans : B. RAINBOW'''\n",
        "print(\"Ans - B. RAINBOW\")"
      ],
      "execution_count": 1,
      "outputs": [
        {
          "output_type": "stream",
          "text": [
            "Ans - B. RAINBOW\n"
          ],
          "name": "stdout"
        }
      ]
    },
    {
      "cell_type": "code",
      "metadata": {
        "id": "Kc2Qj5k0c8ID",
        "outputId": "b3770c07-7046-4144-e1dc-7b2104c5dacd",
        "colab": {
          "base_uri": "https://localhost:8080/"
        }
      },
      "source": [
        "#Questions 2:\n",
        "'''Write a program which prints “LETS UPGRADE”. (Please note that you have to\n",
        "print in ALL CAPS as given)'''\n",
        "\n",
        "y = \"LETS UPGRADE\"\n",
        "print(y)"
      ],
      "execution_count": 3,
      "outputs": [
        {
          "output_type": "stream",
          "text": [
            "LETS UPGRADE\n"
          ],
          "name": "stdout"
        }
      ]
    },
    {
      "cell_type": "code",
      "metadata": {
        "id": "4R_7YJUQd9La",
        "outputId": "6652f4c5-94cd-493c-fb38-11dac48bde89",
        "colab": {
          "base_uri": "https://localhost:8080/"
        }
      },
      "source": [
        "#Question 3:\n",
        "'''Write a program that takes cost price and selling price as input and displays whether the transaction is a\n",
        "Profit or a Loss or Neither.\n",
        "INPUT FORMAT\n",
        "The first line contains the cost price.\n",
        "The second line contains the selling price.\n",
        "OUTPUT FORMAT\n",
        "Print \"Profit\" if the transaction is a profit or \"Loss\" if it is a loss. If it is neither\n",
        "profit nor loss, print \"Neither\". (You must not have quotes in your output)'''\n",
        "\n",
        "cp=int(input())\n",
        "sp=int(input())\n",
        "if(cp<sp):\n",
        "    print(\"Profit\")\n",
        "elif(cp>sp):\n",
        "    print(\"Loss\")\n",
        "else:\n",
        "    print(\"Neither\")"
      ],
      "execution_count": 8,
      "outputs": [
        {
          "output_type": "stream",
          "text": [
            "67\n",
            "100\n",
            "Profit\n"
          ],
          "name": "stdout"
        }
      ]
    },
    {
      "cell_type": "code",
      "metadata": {
        "id": "obkW9W8Qe1fm",
        "outputId": "205cf7a9-e050-4bf4-fa1a-f3af6b6bac97",
        "colab": {
          "base_uri": "https://localhost:8080/"
        }
      },
      "source": [
        "#Question 4\n",
        "'''Write a program that takes an amount in Euros as input. You need to find its equivalent in\n",
        "Rupees and display it. Assume 1 Euro equals Rs. 80.\n",
        "Please note that you are expected to stick to the given input and output\n",
        "format as in sample test cases. Please don't add any extra lines such as\n",
        "'Enter a number', etc.\n",
        "Your program should take only one number as input and display the output.'''\n",
        "\n",
        "\n",
        "rs = int(input())\n",
        "euro = rs * 80\n",
        "print(euro)"
      ],
      "execution_count": 5,
      "outputs": [
        {
          "output_type": "stream",
          "text": [
            "1000\n",
            "80000\n"
          ],
          "name": "stdout"
        }
      ]
    }
  ]
}