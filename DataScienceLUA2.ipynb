{
  "nbformat": 4,
  "nbformat_minor": 0,
  "metadata": {
    "colab": {
      "name": "DataScienceLUA2.ipynb",
      "provenance": []
    },
    "kernelspec": {
      "name": "python3",
      "display_name": "Python 3"
    }
  },
  "cells": [
    {
      "cell_type": "code",
      "metadata": {
        "id": "wHXlIUpK25WX",
        "outputId": "f508229e-2a65-4ba1-af92-b36de94806e3",
        "colab": {
          "base_uri": "https://localhost:8080/"
        }
      },
      "source": [
        "#Questions 1:\n",
        "#Create an empty list. Accept 10 numbers from the user and append to it the list if it is an even number.\n",
        "\n",
        "lst = []\n",
        "n = int(input(\"enter number of elemnet (expected 10) -\"))\n",
        "for i in range(0 , n):\n",
        "  ele = int(input(\"number = \"))\n",
        "  mod = ele % 2\n",
        "  if mod == 0:\n",
        "\n",
        "    lst.append(ele)\n",
        "\n",
        "print(lst)"
      ],
      "execution_count": 23,
      "outputs": [
        {
          "output_type": "stream",
          "text": [
            "enter number of elemnet (expected 10) -10\n",
            "number = 31\n",
            "number = 13\n",
            "number = 24\n",
            "number = 67\n",
            "number = 80\n",
            "number = 20\n",
            "number = 64\n",
            "number = 89\n",
            "number = 54\n",
            "number = 22\n",
            "[24, 80, 20, 64, 54, 22]\n"
          ],
          "name": "stdout"
        }
      ]
    },
    {
      "cell_type": "markdown",
      "metadata": {
        "id": "gNqK-1Kl6D9f"
      },
      "source": [
        "QUESTION 2"
      ]
    },
    {
      "cell_type": "code",
      "metadata": {
        "id": "E2O3r4VX5aMR",
        "outputId": "da96a288-eace-43fd-c0c2-73777bd071bb",
        "colab": {
          "base_uri": "https://localhost:8080/"
        }
      },
      "source": [
        "#Questions 2:\n",
        "#Create a notebook on LIST COMPREHENSION. This exercise is to put you in a Self learning mode\n",
        "\n",
        "import keyword\n",
        "keyword.kwlist"
      ],
      "execution_count": 5,
      "outputs": [
        {
          "output_type": "execute_result",
          "data": {
            "text/plain": [
              "['False',\n",
              " 'None',\n",
              " 'True',\n",
              " 'and',\n",
              " 'as',\n",
              " 'assert',\n",
              " 'break',\n",
              " 'class',\n",
              " 'continue',\n",
              " 'def',\n",
              " 'del',\n",
              " 'elif',\n",
              " 'else',\n",
              " 'except',\n",
              " 'finally',\n",
              " 'for',\n",
              " 'from',\n",
              " 'global',\n",
              " 'if',\n",
              " 'import',\n",
              " 'in',\n",
              " 'is',\n",
              " 'lambda',\n",
              " 'nonlocal',\n",
              " 'not',\n",
              " 'or',\n",
              " 'pass',\n",
              " 'raise',\n",
              " 'return',\n",
              " 'try',\n",
              " 'while',\n",
              " 'with',\n",
              " 'yield']"
            ]
          },
          "metadata": {
            "tags": []
          },
          "execution_count": 5
        }
      ]
    },
    {
      "cell_type": "code",
      "metadata": {
        "id": "OY1fcSbu6Inx",
        "outputId": "5dff9230-dcd6-4302-eb9c-4fbe26a3fda7",
        "colab": {
          "base_uri": "https://localhost:8080/"
        }
      },
      "source": [
        "\n",
        "len(keyword.kwlist)"
      ],
      "execution_count": 6,
      "outputs": [
        {
          "output_type": "execute_result",
          "data": {
            "text/plain": [
              "33"
            ]
          },
          "metadata": {
            "tags": []
          },
          "execution_count": 6
        }
      ]
    },
    {
      "cell_type": "code",
      "metadata": {
        "id": "U-sTM9Zn6NY7",
        "outputId": "7c5ccd42-ac68-440f-ba9f-5545e25bca7e",
        "colab": {
          "base_uri": "https://localhost:8080/"
        }
      },
      "source": [
        "list1 = [\"apple\", \"banana\", \"cherry\" ,  \"orange\"]\n",
        "print(list1)\n",
        "print(list1[-2])\n",
        "print(list1[2:5])\n",
        "\n",
        "if \"banana\" in list1:\n",
        "  print(\"Yes, 'apple' is in the fruits list\")\n",
        "\n",
        "print(len(list1))\n",
        "\n",
        "list1.append(\"chiku\")\n",
        "print(list1)\n",
        "\n",
        "list1.insert(1, \"orange\")\n",
        "print(list1)\n",
        "\n",
        "list1.remove(\"orange\")\n",
        "print(list1)\n",
        "\n",
        "list1.pop()\n",
        "print(list1)\n",
        "\n",
        "del list1\n",
        "\n"
      ],
      "execution_count": 13,
      "outputs": [
        {
          "output_type": "stream",
          "text": [
            "['apple', 'banana', 'cherry', 'orange']\n",
            "cherry\n",
            "['cherry', 'orange']\n",
            "Yes, 'apple' is in the fruits list\n",
            "4\n",
            "['apple', 'banana', 'cherry', 'orange', 'chiku']\n",
            "['apple', 'orange', 'banana', 'cherry', 'orange', 'chiku']\n",
            "['apple', 'banana', 'cherry', 'orange', 'chiku']\n",
            "['apple', 'banana', 'cherry', 'orange']\n"
          ],
          "name": "stdout"
        }
      ]
    },
    {
      "cell_type": "code",
      "metadata": {
        "id": "e5IKlztP6j2-"
      },
      "source": [
        "\n",
        "list2 = [\"apple\", \"banana\", \"cherry\", \"orange\", \"lime\", \"melon\", \"mango\"]\n",
        "print(list2[:5])\n",
        "print(list2[-4:-1])\n"
      ],
      "execution_count": null,
      "outputs": []
    },
    {
      "cell_type": "markdown",
      "metadata": {
        "id": "fb9w4Gjm75Hv"
      },
      "source": [
        "QUESTION 3"
      ]
    },
    {
      "cell_type": "code",
      "metadata": {
        "id": "d8qQehn577pC",
        "outputId": "a4a15767-2a92-47ee-fbaf-b371f1297a05",
        "colab": {
          "base_uri": "https://localhost:8080/"
        }
      },
      "source": [
        "'''You have seen in the videos how powerful dictionary data structure is.\n",
        "In this assignment, given a number n, you have to write a program that generates a dictionary d which\n",
        "contains (i, i*i), where i is from 1 to n (both included).\n",
        "Then you have to just print this dictionary d.\n",
        "Example:\n",
        "Input: 4\n",
        "will give output as\n",
        "{1: 1, 2: 4, 3: 9, 4: 16}\n",
        "Input Format:\n",
        "Take the number n in a single line.\n",
        "Output Format:\n",
        "Print the dictionary d in a single line.'''\n",
        "\n",
        "n=int(input(\"Enter number  \"))\n",
        "x = {}\n",
        "for i in range(1 , n+1):\n",
        "  x[i]=i*i\n",
        "print(x)"
      ],
      "execution_count": 15,
      "outputs": [
        {
          "output_type": "stream",
          "text": [
            "Enter number  5\n",
            "{1: 1, 2: 4, 3: 9, 4: 16, 5: 25}\n"
          ],
          "name": "stdout"
        }
      ]
    },
    {
      "cell_type": "markdown",
      "metadata": {
        "id": "PdMr6xLL8zBb"
      },
      "source": [
        "QUESTION 4\n"
      ]
    },
    {
      "cell_type": "code",
      "metadata": {
        "id": "4cWxo7w881PP",
        "outputId": "2171f4c0-1244-4ada-f002-23ffb41fb0c7",
        "colab": {
          "base_uri": "https://localhost:8080/"
        }
      },
      "source": [
        "'''There is a robot which wants to go the charging point to charge itself.\n",
        "The robot moves in a 2-D plane from the original point (0,0). The robot can\n",
        "move toward UP, DOWN, LEFT and RIGHT with given steps.\n",
        "The trace of robot movement is shown as the following:\n",
        "UP 5\n",
        "DOWN 3\n",
        "LEFT 3\n",
        "RIGHT 2\n",
        "Then, the output of the program should be:\n",
        "2\n",
        "The numbers after the direction are steps.\n",
        "Write a program to compute the distance between the current position after\n",
        "a sequence of movement and original point. If the distance is a float, then\n",
        "just print the nearest integer (use round() function for that and then convert\n",
        "it into an integer).\n",
        "Input Format:\n",
        "The first line of the input contains a number n which implies the number of\n",
        "directions to be given.\n",
        "The next n lines contain the direction and the step separated by a space.\n",
        "Output Format:\n",
        "Print the distance from the original position to the current position.'''\n",
        "\n",
        "pos = {\n",
        "    \"x\": 0, \n",
        "    \"y\": 0\n",
        "}\n",
        "z=int(input())\n",
        "c=0\n",
        "while (c!=z):\n",
        "\n",
        "    n = input()\n",
        "    c=c+1\n",
        "    if not n:\n",
        "        break\n",
        "\n",
        "    direction,steps=n.split()\n",
        "    if direction == \"UP\":\n",
        "        pos[\"y\"] += int(steps)\n",
        "    elif direction == \"DOWN\":\n",
        "        pos[\"y\"] -= int(steps)\n",
        "    elif direction == \"LEFT\":\n",
        "        pos[\"x\"] -= int(steps)\n",
        "    elif direction == \"RIGHT\":\n",
        "        pos[\"x\"] += int(steps)\n",
        "print (int(round((pos[\"x\"]**2 + pos[\"y\"]**2)**0.5)))\n"
      ],
      "execution_count": 17,
      "outputs": [
        {
          "output_type": "stream",
          "text": [
            "4\n",
            "UP 5\n",
            "DOWN 3\n",
            "LEFT 4\n",
            "RIGHT 4\n",
            "2\n"
          ],
          "name": "stdout"
        }
      ]
    }
  ]
}